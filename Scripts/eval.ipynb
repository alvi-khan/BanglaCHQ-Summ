{
 "cells": [
  {
   "cell_type": "code",
   "execution_count": null,
   "metadata": {
    "_cell_guid": "e88a7974-9e38-4018-a326-f28509ae9300",
    "_uuid": "def03497-efa6-43f7-865c-103262240367",
    "execution": {
     "iopub.execute_input": "2023-06-10T09:25:31.584825Z",
     "iopub.status.busy": "2023-06-10T09:25:31.584391Z",
     "iopub.status.idle": "2023-06-10T09:25:31.595601Z",
     "shell.execute_reply": "2023-06-10T09:25:31.594486Z",
     "shell.execute_reply.started": "2023-06-10T09:25:31.584800Z"
    }
   },
   "outputs": [],
   "source": [
    "MODEL = \"./best_model\"\n",
    "MAX_INPUT_LENGTH = 512\n",
    "MAX_OUTPUT_LENGTH = 128\n",
    "BATCH_SIZE = 8\n",
    "NO_REPEAT_NGRAM_SIZE = 2\n",
    "NUM_BEAMS = 15\n",
    "LENGTH_PENALTY = 1"
   ]
  },
  {
   "cell_type": "code",
   "execution_count": null,
   "metadata": {
    "_cell_guid": "2a189112-a442-4489-866b-055c04517c09",
    "_uuid": "fe10c265-134e-4775-85bd-b13c631a80d1",
    "execution": {
     "iopub.execute_input": "2023-06-10T09:26:02.629656Z",
     "iopub.status.busy": "2023-06-10T09:26:02.629280Z",
     "iopub.status.idle": "2023-06-10T09:26:18.295723Z",
     "shell.execute_reply": "2023-06-10T09:26:18.294780Z",
     "shell.execute_reply.started": "2023-06-10T09:26:02.629621Z"
    }
   },
   "outputs": [],
   "source": [
    "from datasets import Dataset, DatasetDict\n",
    "import pandas as pd\n",
    "from transformers import AutoTokenizer, AutoConfig, AutoModelForSeq2SeqLM, DataCollatorForSeq2Seq\n",
    "import torch\n",
    "import evaluate\n",
    "import numpy as np\n",
    "from torch.utils.data import DataLoader\n",
    "from tqdm import tqdm\n",
    "import os\n",
    "from statistics import mean\n",
    "from rouge import Rouge\n",
    "\n",
    "os.environ[\"TOKENIZERS_PARALLELISM\"] = \"false\""
   ]
  },
  {
   "cell_type": "code",
   "execution_count": null,
   "metadata": {
    "_cell_guid": "feceba2a-0152-4610-b60b-0928dbfdb5ab",
    "_uuid": "09fe0792-723b-409e-9ebb-54b980eafc47",
    "execution": {
     "iopub.execute_input": "2023-06-10T09:26:18.297803Z",
     "iopub.status.busy": "2023-06-10T09:26:18.297378Z",
     "iopub.status.idle": "2023-06-10T09:26:18.339793Z",
     "shell.execute_reply": "2023-06-10T09:26:18.338960Z",
     "shell.execute_reply.started": "2023-06-10T09:26:18.297767Z"
    }
   },
   "outputs": [],
   "source": [
    "path = \"../Dataset\"\n",
    "test = pd.read_csv(f\"{path}/test.csv\")\n",
    "test = Dataset.from_dict(test)\n",
    "ds = DatasetDict({\n",
    "    \"test\": test,\n",
    "})"
   ]
  },
  {
   "cell_type": "code",
   "execution_count": null,
   "metadata": {
    "_cell_guid": "70cfd00a-4801-483f-8930-697cc43aacb5",
    "_uuid": "c3e03a40-e437-4481-908f-2454518faa61",
    "execution": {
     "iopub.execute_input": "2023-06-10T09:26:18.344194Z",
     "iopub.status.busy": "2023-06-10T09:26:18.343929Z",
     "iopub.status.idle": "2023-06-10T09:26:18.518387Z",
     "shell.execute_reply": "2023-06-10T09:26:18.517429Z",
     "shell.execute_reply.started": "2023-06-10T09:26:18.344171Z"
    }
   },
   "outputs": [],
   "source": [
    "tokenizer = AutoTokenizer.from_pretrained(MODEL)"
   ]
  },
  {
   "cell_type": "code",
   "execution_count": null,
   "metadata": {
    "_cell_guid": "56464c12-8dc7-4a18-b8b1-0c10e1ce479c",
    "_uuid": "ffe260c5-0c39-4e8e-8f2f-b9771741da1c",
    "execution": {
     "iopub.execute_input": "2023-06-10T09:26:18.520053Z",
     "iopub.status.busy": "2023-06-10T09:26:18.519695Z",
     "iopub.status.idle": "2023-06-10T09:26:18.687503Z",
     "shell.execute_reply": "2023-06-10T09:26:18.686606Z",
     "shell.execute_reply.started": "2023-06-10T09:26:18.520020Z"
    }
   },
   "outputs": [],
   "source": [
    "def tokenize_data(data):\n",
    "    input_feature = tokenizer(data[\"question\"], truncation=True, max_length=MAX_INPUT_LENGTH)\n",
    "    label = tokenizer(data[\"summary\"], truncation=True, max_length=MAX_OUTPUT_LENGTH)\n",
    "    \n",
    "    return {\n",
    "        \"input_ids\": input_feature[\"input_ids\"],\n",
    "        \"attention_mask\": input_feature[\"attention_mask\"],\n",
    "        \"labels\": label[\"input_ids\"],\n",
    "    }\n",
    "\n",
    "tokenized_ds = ds.map(\n",
    "    tokenize_data,\n",
    "    remove_columns=[\"summary\", \"question\"],\n",
    "    batched=True,\n",
    "    batch_size=BATCH_SIZE\n",
    ")"
   ]
  },
  {
   "cell_type": "code",
   "execution_count": null,
   "metadata": {
    "_cell_guid": "995dbdef-ba8e-43dc-8d20-184a293323a6",
    "_uuid": "1ba0dd18-2d9e-4516-8263-c7864e775f85",
    "execution": {
     "iopub.execute_input": "2023-06-10T09:26:18.689229Z",
     "iopub.status.busy": "2023-06-10T09:26:18.688798Z",
     "iopub.status.idle": "2023-06-10T09:26:33.973078Z",
     "shell.execute_reply": "2023-06-10T09:26:33.972066Z",
     "shell.execute_reply.started": "2023-06-10T09:26:18.689197Z"
    }
   },
   "outputs": [],
   "source": [
    "device = torch.device(\"cuda\" if torch.cuda.is_available() else \"cpu\")\n",
    "\n",
    "config = AutoConfig.from_pretrained(\n",
    "    MODEL,\n",
    "    max_length=MAX_OUTPUT_LENGTH,\n",
    "    length_penalty=LENGTH_PENALTY,\n",
    "    no_repeat_ngram_size=NO_REPEAT_NGRAM_SIZE,\n",
    "    num_beams=NUM_BEAMS,\n",
    ")\n",
    "\n",
    "model = (AutoModelForSeq2SeqLM.from_pretrained(MODEL).to(device))"
   ]
  },
  {
   "cell_type": "code",
   "execution_count": null,
   "metadata": {
    "_cell_guid": "18ea4fa2-a00b-4834-bd12-e2d85fb3e3ec",
    "_uuid": "51f34922-2618-46be-bd11-103ad54ac086",
    "execution": {
     "iopub.execute_input": "2023-06-10T09:26:33.975074Z",
     "iopub.status.busy": "2023-06-10T09:26:33.974685Z",
     "iopub.status.idle": "2023-06-10T09:26:33.979644Z",
     "shell.execute_reply": "2023-06-10T09:26:33.978781Z",
     "shell.execute_reply.started": "2023-06-10T09:26:33.975041Z"
    }
   },
   "outputs": [],
   "source": [
    "data_collator = DataCollatorForSeq2Seq(\n",
    "    tokenizer,\n",
    "    model=model,\n",
    "    padding=\"longest\",\n",
    "    return_tensors=\"pt\"\n",
    ")"
   ]
  },
  {
   "cell_type": "code",
   "execution_count": null,
   "metadata": {
    "_cell_guid": "2061e5e7-23a2-4705-9fe5-fb8092385204",
    "_uuid": "d39a2166-ef5f-4ed5-bb43-dd672a175898",
    "execution": {
     "iopub.execute_input": "2023-06-10T09:26:33.981853Z",
     "iopub.status.busy": "2023-06-10T09:26:33.981195Z",
     "iopub.status.idle": "2023-06-10T09:26:34.619245Z",
     "shell.execute_reply": "2023-06-10T09:26:34.618366Z",
     "shell.execute_reply.started": "2023-06-10T09:26:33.981820Z"
    }
   },
   "outputs": [],
   "source": [
    "bert_score = evaluate.load(\"bertscore\")\n",
    "rouge = Rouge()\n",
    "\n",
    "def tokenize_sentence(arg):\n",
    "    encoded_arg = tokenizer(arg)\n",
    "    return tokenizer.convert_ids_to_tokens(encoded_arg.input_ids)\n",
    "\n",
    "def metrics_func(eval_arg):\n",
    "    preds, labels = eval_arg\n",
    "    \n",
    "    labels = np.where(labels != -100, labels, tokenizer.pad_token_id)\n",
    "    preds = np.where(preds != -100, preds, tokenizer.pad_token_id)\n",
    "    text_preds = tokenizer.batch_decode(preds, skip_special_tokens=True)\n",
    "    text_labels = tokenizer.batch_decode(labels, skip_special_tokens=True)\n",
    "    \n",
    "    results = {}\n",
    "    \n",
    "    rouge_scores = rouge.get_scores(text_preds, text_labels, avg = True, ignore_empty = True)\n",
    "    results['rouge-1'] = rouge_scores['rouge-1']['f']\n",
    "    results['rouge-2'] = rouge_scores['rouge-2']['f']\n",
    "    results['rouge-l'] = rouge_scores['rouge-l']['f']\n",
    "    \n",
    "    bertscore_result = bert_score.compute(\n",
    "        predictions=text_preds,\n",
    "        references=text_labels,\n",
    "        model_type=\"csebuetnlp/banglabert\",\n",
    "        num_layers=12,\n",
    "        batch_size=4\n",
    "    )\n",
    "    results['bertscore'] = mean([round(v, 4) for v in bertscore_result[\"f1\"]])\n",
    "    \n",
    "    return results"
   ]
  },
  {
   "cell_type": "code",
   "execution_count": null,
   "metadata": {
    "_cell_guid": "566b06b7-9a66-4b21-9a67-d5d1380024ae",
    "_uuid": "178e69a1-ff5c-4433-89bd-7223cdaf74cc",
    "execution": {
     "iopub.execute_input": "2023-06-10T09:26:34.621102Z",
     "iopub.status.busy": "2023-06-10T09:26:34.620742Z",
     "iopub.status.idle": "2023-06-10T09:26:34.627207Z",
     "shell.execute_reply": "2023-06-10T09:26:34.626188Z",
     "shell.execute_reply.started": "2023-06-10T09:26:34.621070Z"
    }
   },
   "outputs": [],
   "source": [
    "test_dataloader = DataLoader(\n",
    "  tokenized_ds[\"test\"].with_format(\"torch\"),\n",
    "  collate_fn=data_collator,\n",
    "  batch_size=BATCH_SIZE\n",
    ")"
   ]
  },
  {
   "cell_type": "code",
   "execution_count": null,
   "metadata": {
    "_cell_guid": "10a1f204-76e2-45a7-a7e8-873cac248ad5",
    "_uuid": "41862d64-7adb-4381-8a62-372c183febc9",
    "execution": {
     "iopub.execute_input": "2023-06-10T09:26:34.631139Z",
     "iopub.status.busy": "2023-06-10T09:26:34.630280Z",
     "iopub.status.idle": "2023-06-10T09:27:50.601598Z",
     "shell.execute_reply": "2023-06-10T09:27:50.600618Z",
     "shell.execute_reply.started": "2023-06-10T09:26:34.631108Z"
    }
   },
   "outputs": [],
   "source": [
    "scores = []\n",
    "predictions = []\n",
    "\n",
    "for batch in tqdm(test_dataloader):\n",
    "    torch.cuda.empty_cache()\n",
    "    with torch.no_grad():\n",
    "        preds = model.generate(\n",
    "            batch[\"input_ids\"].to(device),\n",
    "            num_beams=NUM_BEAMS,\n",
    "            num_return_sequences=1,\n",
    "            no_repeat_ngram_size=NO_REPEAT_NGRAM_SIZE,\n",
    "            remove_invalid_values=True,\n",
    "            max_length=MAX_OUTPUT_LENGTH,\n",
    "        )\n",
    "        preds = preds.cpu()\n",
    "        labels = batch[\"labels\"]\n",
    "        scores.append(metrics_func([preds, labels]))\n",
    "        preds = tokenizer.batch_decode(preds, skip_special_tokens=True)\n",
    "        predictions.extend(preds)\n",
    "\n",
    "print(pd.DataFrame(scores).mean())\n",
    "test = test.add_column('finetuned_predictions', predictions)\n",
    "test.to_pandas().to_json('output.json', orient='records')"
   ]
  },
  {
   "cell_type": "code",
   "execution_count": null,
   "metadata": {},
   "outputs": [],
   "source": []
  }
 ],
 "metadata": {
  "kernelspec": {
   "display_name": "Python 3 (ipykernel)",
   "language": "python",
   "name": "python3"
  },
  "language_info": {
   "codemirror_mode": {
    "name": "ipython",
    "version": 3
   },
   "file_extension": ".py",
   "mimetype": "text/x-python",
   "name": "python",
   "nbconvert_exporter": "python",
   "pygments_lexer": "ipython3",
   "version": "3.11.3"
  }
 },
 "nbformat": 4,
 "nbformat_minor": 4
}
